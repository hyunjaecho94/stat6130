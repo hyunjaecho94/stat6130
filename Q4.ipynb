{
 "cells": [
  {
   "cell_type": "code",
   "execution_count": 1,
   "metadata": {},
   "outputs": [],
   "source": [
    "import pandas as pd\n",
    "import numpy as np\n",
    "from sklearn.linear_model import LinearRegression\n",
    "import warnings\n",
    "warnings.filterwarnings('ignore')"
   ]
  },
  {
   "cell_type": "code",
   "execution_count": 2,
   "metadata": {},
   "outputs": [
    {
     "data": {
      "text/html": [
       "<div>\n",
       "<style scoped>\n",
       "    .dataframe tbody tr th:only-of-type {\n",
       "        vertical-align: middle;\n",
       "    }\n",
       "\n",
       "    .dataframe tbody tr th {\n",
       "        vertical-align: top;\n",
       "    }\n",
       "\n",
       "    .dataframe thead th {\n",
       "        text-align: right;\n",
       "    }\n",
       "</style>\n",
       "<table border=\"1\" class=\"dataframe\">\n",
       "  <thead>\n",
       "    <tr style=\"text-align: right;\">\n",
       "      <th></th>\n",
       "      <th>mpg</th>\n",
       "      <th>cyl</th>\n",
       "      <th>disp</th>\n",
       "      <th>hp</th>\n",
       "      <th>drat</th>\n",
       "      <th>wt</th>\n",
       "      <th>qsec</th>\n",
       "    </tr>\n",
       "  </thead>\n",
       "  <tbody>\n",
       "    <tr>\n",
       "      <th>0</th>\n",
       "      <td>21.0</td>\n",
       "      <td>6</td>\n",
       "      <td>160.0</td>\n",
       "      <td>110</td>\n",
       "      <td>3.90</td>\n",
       "      <td>2.620</td>\n",
       "      <td>16.46</td>\n",
       "    </tr>\n",
       "    <tr>\n",
       "      <th>1</th>\n",
       "      <td>21.0</td>\n",
       "      <td>6</td>\n",
       "      <td>160.0</td>\n",
       "      <td>110</td>\n",
       "      <td>3.90</td>\n",
       "      <td>2.875</td>\n",
       "      <td>17.02</td>\n",
       "    </tr>\n",
       "    <tr>\n",
       "      <th>2</th>\n",
       "      <td>22.8</td>\n",
       "      <td>4</td>\n",
       "      <td>108.0</td>\n",
       "      <td>93</td>\n",
       "      <td>3.85</td>\n",
       "      <td>2.320</td>\n",
       "      <td>18.61</td>\n",
       "    </tr>\n",
       "    <tr>\n",
       "      <th>3</th>\n",
       "      <td>21.4</td>\n",
       "      <td>6</td>\n",
       "      <td>258.0</td>\n",
       "      <td>110</td>\n",
       "      <td>3.08</td>\n",
       "      <td>3.215</td>\n",
       "      <td>19.44</td>\n",
       "    </tr>\n",
       "    <tr>\n",
       "      <th>4</th>\n",
       "      <td>18.7</td>\n",
       "      <td>8</td>\n",
       "      <td>360.0</td>\n",
       "      <td>175</td>\n",
       "      <td>3.15</td>\n",
       "      <td>3.440</td>\n",
       "      <td>17.02</td>\n",
       "    </tr>\n",
       "  </tbody>\n",
       "</table>\n",
       "</div>"
      ],
      "text/plain": [
       "    mpg  cyl   disp   hp  drat     wt   qsec\n",
       "0  21.0    6  160.0  110  3.90  2.620  16.46\n",
       "1  21.0    6  160.0  110  3.90  2.875  17.02\n",
       "2  22.8    4  108.0   93  3.85  2.320  18.61\n",
       "3  21.4    6  258.0  110  3.08  3.215  19.44\n",
       "4  18.7    8  360.0  175  3.15  3.440  17.02"
      ]
     },
     "execution_count": 2,
     "metadata": {},
     "output_type": "execute_result"
    }
   ],
   "source": [
    "predictors = [\"cyl\", \"disp\", \"hp\", \"drat\", \"wt\", \"qsec\"]\n",
    "response = [\"mpg\"]\n",
    "\n",
    "mtcars = pd.read_csv(\"mtcars.csv\", usecols=response+predictors)\n",
    "# mtcars = pd.concat([mtcars, pd.DataFrame(np.ones(shape=[32,1]))], axis=1)\n",
    "mtcars.head()"
   ]
  },
  {
   "cell_type": "code",
   "execution_count": 3,
   "metadata": {},
   "outputs": [],
   "source": [
    "y = mtcars[response[0]]\n",
    "X = mtcars.drop([\"mpg\"],axis=1)"
   ]
  },
  {
   "cell_type": "code",
   "execution_count": 4,
   "metadata": {},
   "outputs": [
    {
     "data": {
      "text/plain": [
       "(32, 6)"
      ]
     },
     "execution_count": 4,
     "metadata": {},
     "output_type": "execute_result"
    }
   ],
   "source": [
    "X.shape"
   ]
  },
  {
   "cell_type": "code",
   "execution_count": 5,
   "metadata": {},
   "outputs": [
    {
     "name": "stdout",
     "output_type": "stream",
     "text": [
      "(7,)\n",
      "()\n"
     ]
    }
   ],
   "source": [
    "reg = LinearRegression().fit(X, y)\n",
    "coefficients = reg.coef_\n",
    "intercepts = reg.intercept_\n",
    "coefficients = np.hstack([coefficients, intercepts])\n",
    "print(coefficients.shape)\n",
    "print(intercepts.shape)"
   ]
  },
  {
   "cell_type": "code",
   "execution_count": 6,
   "metadata": {},
   "outputs": [
    {
     "data": {
      "text/plain": [
       "array([-8.18560235e-01,  1.32048951e-02, -1.79299325e-02,  1.32040573e+00,\n",
       "       -4.19083238e+00,  4.01461166e-01,  2.63073590e+01])"
      ]
     },
     "execution_count": 6,
     "metadata": {},
     "output_type": "execute_result"
    }
   ],
   "source": [
    "coefficients"
   ]
  },
  {
   "cell_type": "code",
   "execution_count": 7,
   "metadata": {},
   "outputs": [
    {
     "data": {
      "text/plain": [
       "26.30735899381266"
      ]
     },
     "execution_count": 7,
     "metadata": {},
     "output_type": "execute_result"
    }
   ],
   "source": [
    "intercepts"
   ]
  },
  {
   "cell_type": "code",
   "execution_count": 8,
   "metadata": {},
   "outputs": [
    {
     "data": {
      "text/plain": [
       "(32, 7)"
      ]
     },
     "execution_count": 8,
     "metadata": {},
     "output_type": "execute_result"
    }
   ],
   "source": [
    "predictors.append(\"Y\")\n",
    "\n",
    "x_p = pd.concat([X, pd.DataFrame(np.ones(shape=[32,1]))], axis=1)\n",
    "x_p.shape\n",
    "\n"
   ]
  },
  {
   "cell_type": "code",
   "execution_count": null,
   "metadata": {},
   "outputs": [],
   "source": []
  },
  {
   "cell_type": "code",
   "execution_count": 9,
   "metadata": {},
   "outputs": [
    {
     "data": {
      "text/plain": [
       "array([22.31414056, 21.47029655, 25.62378627, 21.22829659, 17.9505849 ,\n",
       "       19.74604065, 15.75618159, 23.39138555, 24.35735289, 19.51002275,\n",
       "       19.75089945, 14.15578146, 15.6609567 , 15.61199955, 11.40114204,\n",
       "       10.36237375, 10.30351147, 26.87284082, 30.2768389 , 28.67755248,\n",
       "       25.46815985, 16.93378362, 17.79272238, 15.00659058, 16.70110903,\n",
       "       27.75854001, 26.57546067, 27.68471515, 17.7686536 , 19.56688034,\n",
       "       13.3013209 , 23.92007897])"
      ]
     },
     "execution_count": 9,
     "metadata": {},
     "output_type": "execute_result"
    }
   ],
   "source": [
    "w_est = np.matmul(x_p, coefficients.T)\n",
    "w_est"
   ]
  },
  {
   "cell_type": "code",
   "execution_count": 10,
   "metadata": {},
   "outputs": [
    {
     "name": "stdout",
     "output_type": "stream",
     "text": [
      "24\n"
     ]
    },
    {
     "data": {
      "text/plain": [
       "(7, 7)"
      ]
     },
     "execution_count": 10,
     "metadata": {},
     "output_type": "execute_result"
    }
   ],
   "source": [
    "epsilon = w_est-y\n",
    "N = len(y)\n",
    "r = 7\n",
    "dof = N-r-1\n",
    "print(dof)\n",
    "sq_s = np.matmul(epsilon.T, epsilon)/dof\n",
    "t = 2.064\n",
    "sq_tau_beta = np.linalg.inv(np.matmul(x_p.T, x_p))\n",
    "sq_tau_beta.shape"
   ]
  },
  {
   "cell_type": "code",
   "execution_count": 11,
   "metadata": {},
   "outputs": [
    {
     "name": "stdout",
     "output_type": "stream",
     "text": [
      "cyl -2.528167227652163 0.8910467581248226\n",
      "disp -0.012151202253758576 0.038560992458893543\n",
      "hp -0.05059284498063068 0.014732980052926413\n",
      "drat -1.7962008195594685 4.437012286373726\n",
      "wt -6.840691027718206 -1.5409737267443346\n",
      "qsec -0.686755034519867 1.4896773668878371\n",
      "Y -4.511500171708757 57.12621815933407\n"
     ]
    }
   ],
   "source": [
    "for ind, coe in enumerate(coefficients):\n",
    "    interval = t*(sq_s*sq_tau_beta[ind][ind])**0.5\n",
    "    print(predictors[ind], coe-interval, coe+interval)\n"
   ]
  },
  {
   "cell_type": "code",
   "execution_count": 12,
   "metadata": {},
   "outputs": [],
   "source": [
    "# Backward Elimination\n",
    "# The higher the error, the more we keep"
   ]
  },
  {
   "cell_type": "code",
   "execution_count": 13,
   "metadata": {},
   "outputs": [],
   "source": [
    "def error(predictions, truth):\n",
    "    return np.sum((truth-predictions)**2)"
   ]
  },
  {
   "cell_type": "code",
   "execution_count": 14,
   "metadata": {},
   "outputs": [
    {
     "data": {
      "text/plain": [
       "1050.6109110306768"
      ]
     },
     "execution_count": 14,
     "metadata": {},
     "output_type": "execute_result"
    }
   ],
   "source": [
    "# cyl zero\n",
    "co1 = coefficients.copy()\n",
    "co1[0] = 0\n",
    "est = np.matmul(x_p, co1.T)\n",
    "error(est, y)"
   ]
  },
  {
   "cell_type": "code",
   "execution_count": 15,
   "metadata": {},
   "outputs": [
    {
     "data": {
      "text/plain": [
       "543.5368325246873"
      ]
     },
     "execution_count": 15,
     "metadata": {},
     "output_type": "execute_result"
    }
   ],
   "source": [
    "# disp zero\n",
    "co2 = coefficients.copy()\n",
    "co2[1] = 0\n",
    "est = np.matmul(x_p, co2.T)\n",
    "error(est, y)"
   ]
  },
  {
   "cell_type": "code",
   "execution_count": 16,
   "metadata": {},
   "outputs": [
    {
     "data": {
      "text/plain": [
       "431.68257403589155"
      ]
     },
     "execution_count": 16,
     "metadata": {},
     "output_type": "execute_result"
    }
   ],
   "source": [
    "# hp zero\n",
    "co3 = coefficients.copy()\n",
    "co3[2] = 0\n",
    "est = np.matmul(x_p, co3.T)\n",
    "error(est, y)"
   ]
  },
  {
   "cell_type": "code",
   "execution_count": 17,
   "metadata": {},
   "outputs": [
    {
     "data": {
      "text/plain": [
       "900.6002668241803"
      ]
     },
     "execution_count": 17,
     "metadata": {},
     "output_type": "execute_result"
    }
   ],
   "source": [
    "# drat zero\n",
    "co4 = coefficients.copy()\n",
    "co4[3] = 0\n",
    "est = np.matmul(x_p, co4.T)\n",
    "error(est, y)"
   ]
  },
  {
   "cell_type": "code",
   "execution_count": 18,
   "metadata": {},
   "outputs": [
    {
     "data": {
      "text/plain": [
       "6502.009741084888"
      ]
     },
     "execution_count": 18,
     "metadata": {},
     "output_type": "execute_result"
    }
   ],
   "source": [
    "# wt zero\n",
    "co5 = coefficients.copy()\n",
    "co5[4] = 0\n",
    "est = np.matmul(x_p, co5.T)\n",
    "error(est, y)"
   ]
  },
  {
   "cell_type": "code",
   "execution_count": 19,
   "metadata": {},
   "outputs": [
    {
     "data": {
      "text/plain": [
       "1822.4880119182908"
      ]
     },
     "execution_count": 19,
     "metadata": {},
     "output_type": "execute_result"
    }
   ],
   "source": [
    "# qsec zero\n",
    "co6 = coefficients.copy()\n",
    "co6[5] = 0\n",
    "est = np.matmul(x_p, co6.T)\n",
    "error(est, y)"
   ]
  },
  {
   "cell_type": "code",
   "execution_count": 20,
   "metadata": {},
   "outputs": [
    {
     "data": {
      "text/plain": [
       "22309.945206461685"
      ]
     },
     "execution_count": 20,
     "metadata": {},
     "output_type": "execute_result"
    }
   ],
   "source": [
    "# intercept zero\n",
    "co7 = coefficients.copy()\n",
    "co7[6] = 0\n",
    "est = np.matmul(x_p, co7.T)\n",
    "error(est, y)"
   ]
  },
  {
   "cell_type": "code",
   "execution_count": 21,
   "metadata": {},
   "outputs": [
    {
     "data": {
      "text/plain": [
       "163.47681512294227"
      ]
     },
     "execution_count": 21,
     "metadata": {},
     "output_type": "execute_result"
    }
   ],
   "source": [
    "error(w_est, y)"
   ]
  },
  {
   "cell_type": "code",
   "execution_count": 22,
   "metadata": {},
   "outputs": [
    {
     "name": "stdout",
     "output_type": "stream",
     "text": [
      "[-5.04798198  0.92919798] 19.746222596481193\n"
     ]
    }
   ],
   "source": [
    "backward_X = X.drop([\"cyl\", \"disp\", \"hp\", \"drat\"], axis=1)\n",
    "backward_reg = LinearRegression().fit(backward_X, y)\n",
    "backward_coefficients = backward_reg.coef_\n",
    "backward_intercepts = backward_reg.intercept_\n",
    "print(backward_coefficients, backward_intercepts)"
   ]
  },
  {
   "cell_type": "code",
   "execution_count": 23,
   "metadata": {},
   "outputs": [
    {
     "data": {
      "text/plain": [
       "195.46363160465626"
      ]
     },
     "execution_count": 23,
     "metadata": {},
     "output_type": "execute_result"
    }
   ],
   "source": [
    "backward_estimator = np.matmul(backward_X, backward_coefficients.T) + backward_intercepts\n",
    "error(backward_estimator, y)"
   ]
  },
  {
   "cell_type": "code",
   "execution_count": 24,
   "metadata": {},
   "outputs": [],
   "source": [
    "# Order of importance: intercept, wt, qsec, cyl, drat, disp, hp\n",
    "# Chosen to keep intercept, wt, qsec"
   ]
  },
  {
   "cell_type": "code",
   "execution_count": null,
   "metadata": {},
   "outputs": [],
   "source": []
  },
  {
   "cell_type": "code",
   "execution_count": 25,
   "metadata": {},
   "outputs": [],
   "source": [
    "# Forward Selection\n",
    "# The lower the error, the more we keep"
   ]
  },
  {
   "cell_type": "code",
   "execution_count": 26,
   "metadata": {},
   "outputs": [
    {
     "data": {
      "text/plain": [
       "20976.31226215392"
      ]
     },
     "execution_count": 26,
     "metadata": {},
     "output_type": "execute_result"
    }
   ],
   "source": [
    "# cyl\n",
    "co1 = np.zeros_like(coefficients)\n",
    "co1[0] = coefficients[0]\n",
    "est = np.matmul(x_p, co1.T)\n",
    "error(est, y)"
   ]
  },
  {
   "cell_type": "code",
   "execution_count": 27,
   "metadata": {},
   "outputs": [
    {
     "data": {
      "text/plain": [
       "11023.295856266632"
      ]
     },
     "execution_count": 27,
     "metadata": {},
     "output_type": "execute_result"
    }
   ],
   "source": [
    "# disp\n",
    "co2 = np.zeros_like(coefficients)\n",
    "co2[1] = coefficients[1]\n",
    "est = np.matmul(x_p, co2.T)\n",
    "error(est, y)"
   ]
  },
  {
   "cell_type": "code",
   "execution_count": 28,
   "metadata": {},
   "outputs": [
    {
     "data": {
      "text/plain": [
       "17335.750785849385"
      ]
     },
     "execution_count": 28,
     "metadata": {},
     "output_type": "execute_result"
    }
   ],
   "source": [
    "# hp\n",
    "co3 = np.zeros_like(coefficients)\n",
    "co3[2] = coefficients[2]\n",
    "est = np.matmul(x_p, co3.T)\n",
    "error(est, y)"
   ]
  },
  {
   "cell_type": "code",
   "execution_count": 29,
   "metadata": {},
   "outputs": [
    {
     "data": {
      "text/plain": [
       "8493.570655906999"
      ]
     },
     "execution_count": 29,
     "metadata": {},
     "output_type": "execute_result"
    }
   ],
   "source": [
    "# drat\n",
    "co4 = np.zeros_like(coefficients)\n",
    "co4[3] = coefficients[3]\n",
    "est = np.matmul(x_p, co4.T)\n",
    "error(est, y)"
   ]
  },
  {
   "cell_type": "code",
   "execution_count": 30,
   "metadata": {},
   "outputs": [
    {
     "data": {
      "text/plain": [
       "36387.7506594581"
      ]
     },
     "execution_count": 30,
     "metadata": {},
     "output_type": "execute_result"
    }
   ],
   "source": [
    "# wt\n",
    "co5 = np.zeros_like(coefficients)\n",
    "co5[4] = coefficients[4]\n",
    "est = np.matmul(x_p, co5.T)\n",
    "error(est, y)"
   ]
  },
  {
   "cell_type": "code",
   "execution_count": 31,
   "metadata": {},
   "outputs": [
    {
     "data": {
      "text/plain": [
       "6375.58305153613"
      ]
     },
     "execution_count": 31,
     "metadata": {},
     "output_type": "execute_result"
    }
   ],
   "source": [
    "# qsec\n",
    "co6 = np.zeros_like(coefficients)\n",
    "co6[5] = coefficients[5]\n",
    "est = np.matmul(x_p, co6.T)\n",
    "error(est, y)"
   ]
  },
  {
   "cell_type": "code",
   "execution_count": 32,
   "metadata": {},
   "outputs": [
    {
     "data": {
      "text/plain": [
       "2362.7761970944284"
      ]
     },
     "execution_count": 32,
     "metadata": {},
     "output_type": "execute_result"
    }
   ],
   "source": [
    "# intercept\n",
    "co7 = np.zeros_like(coefficients)\n",
    "co7[6] = coefficients[6]\n",
    "est = np.matmul(x_p, co7.T)\n",
    "error(est, y)"
   ]
  },
  {
   "cell_type": "code",
   "execution_count": 33,
   "metadata": {},
   "outputs": [],
   "source": [
    "# Order of importance = intercept, qsec, drat, disp, hp, cyl, wt\n",
    "# Chosen to keep intercept, qsec, drat,"
   ]
  },
  {
   "cell_type": "code",
   "execution_count": 34,
   "metadata": {},
   "outputs": [
    {
     "name": "stdout",
     "output_type": "stream",
     "text": [
      "[7.30859187 1.21267514] -27.839917908689465\n"
     ]
    }
   ],
   "source": [
    "forward_X = X.drop([\"disp\", \"hp\", \"cyl\", \"wt\"], axis=1)\n",
    "forward_reg = LinearRegression().fit(forward_X, y)\n",
    "forward_coefficients = forward_reg.coef_\n",
    "forward_intercepts =forward_reg.intercept_\n",
    "print(forward_coefficients, forward_intercepts)"
   ]
  },
  {
   "cell_type": "code",
   "execution_count": 35,
   "metadata": {},
   "outputs": [
    {
     "data": {
      "text/plain": [
       "459.20753751345114"
      ]
     },
     "execution_count": 35,
     "metadata": {},
     "output_type": "execute_result"
    }
   ],
   "source": [
    "forward_estimator = np.matmul(forward_X, forward_coefficients.T) + forward_intercepts\n",
    "error(forward_estimator, y)"
   ]
  },
  {
   "cell_type": "code",
   "execution_count": null,
   "metadata": {},
   "outputs": [],
   "source": []
  }
 ],
 "metadata": {
  "kernelspec": {
   "display_name": "Python 3",
   "language": "python",
   "name": "python3"
  },
  "language_info": {
   "codemirror_mode": {
    "name": "ipython",
    "version": 3
   },
   "file_extension": ".py",
   "mimetype": "text/x-python",
   "name": "python",
   "nbconvert_exporter": "python",
   "pygments_lexer": "ipython3",
   "version": "3.7.0"
  }
 },
 "nbformat": 4,
 "nbformat_minor": 2
}
