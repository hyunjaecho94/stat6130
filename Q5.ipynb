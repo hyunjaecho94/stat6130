{
 "cells": [
  {
   "cell_type": "code",
   "execution_count": 1,
   "metadata": {},
   "outputs": [],
   "source": [
    "import pandas as pd\n",
    "import numpy as np\n",
    "from sklearn.linear_model import LinearRegression\n",
    "import scipy.stats as ss"
   ]
  },
  {
   "cell_type": "code",
   "execution_count": 2,
   "metadata": {},
   "outputs": [
    {
     "data": {
      "text/html": [
       "<div>\n",
       "<style scoped>\n",
       "    .dataframe tbody tr th:only-of-type {\n",
       "        vertical-align: middle;\n",
       "    }\n",
       "\n",
       "    .dataframe tbody tr th {\n",
       "        vertical-align: top;\n",
       "    }\n",
       "\n",
       "    .dataframe thead th {\n",
       "        text-align: right;\n",
       "    }\n",
       "</style>\n",
       "<table border=\"1\" class=\"dataframe\">\n",
       "  <thead>\n",
       "    <tr style=\"text-align: right;\">\n",
       "      <th></th>\n",
       "      <th>Y1</th>\n",
       "      <th>Y2</th>\n",
       "      <th>Y3</th>\n",
       "      <th>Y4</th>\n",
       "      <th>Z1</th>\n",
       "      <th>Z2</th>\n",
       "      <th>Z3</th>\n",
       "      <th>Z4</th>\n",
       "    </tr>\n",
       "  </thead>\n",
       "  <tbody>\n",
       "    <tr>\n",
       "      <th>0</th>\n",
       "      <td>21.312</td>\n",
       "      <td>7.039</td>\n",
       "      <td>5.326</td>\n",
       "      <td>0.932</td>\n",
       "      <td>-0.030</td>\n",
       "      <td>35.239</td>\n",
       "      <td>36.991</td>\n",
       "      <td>1.057</td>\n",
       "    </tr>\n",
       "    <tr>\n",
       "      <th>1</th>\n",
       "      <td>21.206</td>\n",
       "      <td>6.979</td>\n",
       "      <td>5.237</td>\n",
       "      <td>0.871</td>\n",
       "      <td>0.015</td>\n",
       "      <td>35.713</td>\n",
       "      <td>36.851</td>\n",
       "      <td>1.064</td>\n",
       "    </tr>\n",
       "    <tr>\n",
       "      <th>2</th>\n",
       "      <td>20.709</td>\n",
       "      <td>6.779</td>\n",
       "      <td>5.060</td>\n",
       "      <td>0.742</td>\n",
       "      <td>0.025</td>\n",
       "      <td>39.220</td>\n",
       "      <td>30.586</td>\n",
       "      <td>1.053</td>\n",
       "    </tr>\n",
       "    <tr>\n",
       "      <th>3</th>\n",
       "      <td>19.542</td>\n",
       "      <td>6.601</td>\n",
       "      <td>4.479</td>\n",
       "      <td>0.513</td>\n",
       "      <td>0.030</td>\n",
       "      <td>39.756</td>\n",
       "      <td>21.072</td>\n",
       "      <td>1.050</td>\n",
       "    </tr>\n",
       "    <tr>\n",
       "      <th>4</th>\n",
       "      <td>20.449</td>\n",
       "      <td>6.795</td>\n",
       "      <td>4.912</td>\n",
       "      <td>0.577</td>\n",
       "      <td>-0.070</td>\n",
       "      <td>32.991</td>\n",
       "      <td>36.570</td>\n",
       "      <td>1.049</td>\n",
       "    </tr>\n",
       "  </tbody>\n",
       "</table>\n",
       "</div>"
      ],
      "text/plain": [
       "       Y1     Y2     Y3     Y4     Z1      Z2      Z3     Z4\n",
       "0  21.312  7.039  5.326  0.932 -0.030  35.239  36.991  1.057\n",
       "1  21.206  6.979  5.237  0.871  0.015  35.713  36.851  1.064\n",
       "2  20.709  6.779  5.060  0.742  0.025  39.220  30.586  1.053\n",
       "3  19.542  6.601  4.479  0.513  0.030  39.756  21.072  1.050\n",
       "4  20.449  6.795  4.912  0.577 -0.070  32.991  36.570  1.049"
      ]
     },
     "execution_count": 2,
     "metadata": {},
     "output_type": "execute_result"
    }
   ],
   "source": [
    "df = pd.read_csv(\"T7-7.dat\", header=None, names=['Y1','Y2','Y3','Y4','Z1','Z2','Z3','Z4'], sep='\\t')\n",
    "df.head()"
   ]
  },
  {
   "cell_type": "code",
   "execution_count": 3,
   "metadata": {},
   "outputs": [],
   "source": [
    "X = df[['Z1','Z2','Z3','Z4']]\n",
    "y = df[['Y1','Y2','Y3','Y4']]"
   ]
  },
  {
   "cell_type": "code",
   "execution_count": 4,
   "metadata": {},
   "outputs": [
    {
     "data": {
      "text/plain": [
       "((62, 4), (62, 4))"
      ]
     },
     "execution_count": 4,
     "metadata": {},
     "output_type": "execute_result"
    }
   ],
   "source": [
    "X.shape, y.shape"
   ]
  },
  {
   "cell_type": "code",
   "execution_count": 5,
   "metadata": {},
   "outputs": [
    {
     "name": "stderr",
     "output_type": "stream",
     "text": [
      "/usr/local/lib/python3.7/site-packages/sklearn/linear_model/base.py:485: RuntimeWarning: internal gelsd driver lwork query error, required iwork dimension not returned. This is likely the result of LAPACK bug 0038, fixed in LAPACK 3.2.2 (released July 21, 2010). Falling back to 'gelss' driver.\n",
      "  linalg.lstsq(X, y)\n"
     ]
    },
    {
     "data": {
      "text/plain": [
       "((4, 4), (4,))"
      ]
     },
     "execution_count": 5,
     "metadata": {},
     "output_type": "execute_result"
    }
   ],
   "source": [
    "reg = LinearRegression().fit(X, y)\n",
    "coefficients = reg.coef_\n",
    "intercepts = reg.intercept_\n",
    "coefficients.shape, intercepts.shape"
   ]
  },
  {
   "cell_type": "code",
   "execution_count": 6,
   "metadata": {},
   "outputs": [
    {
     "data": {
      "text/plain": [
       "array([[-3.12,  0.1 ,  0.05, 85.08],\n",
       "       [-1.18,  0.01,  0.01, 28.75],\n",
       "       [-1.49,  0.05,  0.03, 45.8 ],\n",
       "       [-0.55,  0.03,  0.01, 16.22]])"
      ]
     },
     "execution_count": 6,
     "metadata": {},
     "output_type": "execute_result"
    }
   ],
   "source": [
    "np.set_printoptions(suppress=True)\n",
    "np.round(coefficients,2)"
   ]
  },
  {
   "cell_type": "code",
   "execution_count": 7,
   "metadata": {},
   "outputs": [
    {
     "data": {
      "text/plain": [
       "array([-74.23, -24.01, -45.76, -17.73])"
      ]
     },
     "execution_count": 7,
     "metadata": {},
     "output_type": "execute_result"
    }
   ],
   "source": [
    "\n",
    "np.round(intercepts,2)"
   ]
  },
  {
   "cell_type": "code",
   "execution_count": 8,
   "metadata": {},
   "outputs": [
    {
     "data": {
      "text/plain": [
       "(62, 4)"
      ]
     },
     "execution_count": 8,
     "metadata": {},
     "output_type": "execute_result"
    }
   ],
   "source": [
    "est = np.matmul(X, coefficients.T) + intercepts\n",
    "est.shape"
   ]
  },
  {
   "cell_type": "code",
   "execution_count": 9,
   "metadata": {},
   "outputs": [
    {
     "data": {
      "text/plain": [
       "((4, 4), (4,))"
      ]
     },
     "execution_count": 9,
     "metadata": {},
     "output_type": "execute_result"
    }
   ],
   "source": [
    "cov = np.cov(X.T)\n",
    "mu = np.mean(X)\n",
    "\n",
    "cov.shape, mu.shape"
   ]
  },
  {
   "cell_type": "code",
   "execution_count": 10,
   "metadata": {},
   "outputs": [
    {
     "name": "stdout",
     "output_type": "stream",
     "text": [
      "[[   0.06126434    3.30561305   -3.16220473    0.00567822]\n",
      " [   3.30561305  217.48626109 -182.64292413    0.34198874]\n",
      " [  -3.16220473 -182.64292413  303.42569983   -0.39977974]\n",
      " [   0.00567822    0.34198874   -0.39977974    0.00085574]]\n"
     ]
    }
   ],
   "source": [
    "N = len(X)\n",
    "mean = np.mean(X)\n",
    "total=np.zeros(shape=[4,4])\n",
    "for i in range(N):\n",
    "    sample = X.iloc[i] - mean\n",
    "    total+=np.outer(sample, sample.T)\n",
    "print(total/N)"
   ]
  },
  {
   "cell_type": "code",
   "execution_count": null,
   "metadata": {},
   "outputs": [],
   "source": []
  },
  {
   "cell_type": "code",
   "execution_count": 11,
   "metadata": {},
   "outputs": [
    {
     "data": {
      "text/plain": [
       "((62, 2), (4, 2), (4,))"
      ]
     },
     "execution_count": 11,
     "metadata": {},
     "output_type": "execute_result"
    }
   ],
   "source": [
    "X24 = df[['Z2','Z4']]\n",
    "reg24 = LinearRegression().fit(X24, y)\n",
    "coefficients24 = reg24.coef_\n",
    "intercepts24 = reg24.intercept_\n",
    "X24.shape, coefficients24.shape, intercepts24.shape"
   ]
  },
  {
   "cell_type": "code",
   "execution_count": 12,
   "metadata": {},
   "outputs": [
    {
     "data": {
      "text/plain": [
       "(62, 4)"
      ]
     },
     "execution_count": 12,
     "metadata": {},
     "output_type": "execute_result"
    }
   ],
   "source": [
    "est24 = np.matmul(X24, coefficients24.T) + intercepts24\n",
    "est24.shape"
   ]
  },
  {
   "cell_type": "code",
   "execution_count": 13,
   "metadata": {},
   "outputs": [],
   "source": [
    "from sklearn.metrics import mean_squared_error as mean_error"
   ]
  },
  {
   "cell_type": "code",
   "execution_count": 19,
   "metadata": {},
   "outputs": [],
   "source": [
    "F = mean_error(y, est)"
   ]
  },
  {
   "cell_type": "code",
   "execution_count": 20,
   "metadata": {},
   "outputs": [],
   "source": [
    "R = mean_error(y, est24)"
   ]
  },
  {
   "cell_type": "code",
   "execution_count": 21,
   "metadata": {},
   "outputs": [
    {
     "data": {
      "text/plain": [
       "5.165209877403232"
      ]
     },
     "execution_count": 21,
     "metadata": {},
     "output_type": "execute_result"
    }
   ],
   "source": [
    "((R-F)/2)/(R/57)"
   ]
  },
  {
   "cell_type": "code",
   "execution_count": 26,
   "metadata": {},
   "outputs": [
    {
     "data": {
      "text/plain": [
       "(0.814735206836393, 0.6670763177900947)"
      ]
     },
     "execution_count": 26,
     "metadata": {},
     "output_type": "execute_result"
    }
   ],
   "source": [
    "R,F"
   ]
  },
  {
   "cell_type": "code",
   "execution_count": 24,
   "metadata": {},
   "outputs": [],
   "source": [
    "def Ftest_pvalue(d1,d2):\n",
    "    \"\"\"docstring for Ftest_pvalue\"\"\"\n",
    "    df1 = len(d1) - 1\n",
    "    df2 = len(d2) - 1\n",
    "    F = np.var(d1) / np.var(d2)\n",
    "    print(\"F\",F)\n",
    "    single_tailed_pval = ss.f.cdf(F,df1,df2)\n",
    "#     double_tailed_pval = single_tailed_pval * 2\n",
    "    print(\"P\", 1-single_tailed_pval)\n",
    "#     return F, 1-single_tailed_pval"
   ]
  },
  {
   "cell_type": "code",
   "execution_count": 25,
   "metadata": {},
   "outputs": [
    {
     "name": "stdout",
     "output_type": "stream",
     "text": [
      "F 1.0023830909550033\n",
      "P 0.496306972276815\n"
     ]
    }
   ],
   "source": [
    "Ftest_pvalue(est, est24)"
   ]
  },
  {
   "cell_type": "code",
   "execution_count": null,
   "metadata": {},
   "outputs": [],
   "source": []
  }
 ],
 "metadata": {
  "kernelspec": {
   "display_name": "Python 3",
   "language": "python",
   "name": "python3"
  },
  "language_info": {
   "codemirror_mode": {
    "name": "ipython",
    "version": 3
   },
   "file_extension": ".py",
   "mimetype": "text/x-python",
   "name": "python",
   "nbconvert_exporter": "python",
   "pygments_lexer": "ipython3",
   "version": "3.7.0"
  }
 },
 "nbformat": 4,
 "nbformat_minor": 2
}
